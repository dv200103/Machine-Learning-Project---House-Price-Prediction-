{
 "cells": [
  {
   "cell_type": "code",
   "execution_count": 7,
   "id": "5fe7aeae",
   "metadata": {},
   "outputs": [],
   "source": [
    "import streamlit as st\n",
    "import numpy as np\n",
    "import pickle\n",
    "import warnings\n",
    "warnings.filterwarnings(\"ignore\")\n",
    "\n",
    "loaded_model = pickle.load(open(r'trained_model.sav','rb'))\n",
    "\n",
    "def check(input_data):\n",
    "\n",
    "    array_input = np.array(input_data)\n",
    "\n",
    "    reshaped_input = array_input.reshape(1,-1)\n",
    "\n",
    "    prediction = loaded_model.predict(reshaped_input)\n",
    "\n",
    "    return \"{:.2f}\".format(prediction[0])\n",
    "\n",
    "\n",
    "def main():\n",
    "    st.title(\"House Price Prediciton\")\n",
    "    # Everything in Average of that particular Area except population\n",
    "    Income = st.number_input(\"Average Annual Income of your Area in USD\")\n",
    "    \n",
    "    Neigh_House_Age = st.number_input(\"Average House Age of Neighbours of your Area in Years\")\n",
    "    \n",
    "    No_of_Rooms = st.number_input(\"Average Numbers of Rooms of your Area\")\n",
    "    \n",
    "    No_of_BedRooms = st.number_input(\"Average Numbers of BedRooms of your Area\")\n",
    "    \n",
    "    Population = st.number_input(\"Population of your Area\")\n",
    "    \n",
    "    pred = \"\"\n",
    "    if st.button(\"Click Here for Price Prediction of House\"):\n",
    "        pred = check([Income, Neigh_House_Age, No_of_Rooms, No_of_BedRooms, Population])\n",
    "        \n",
    "    st.success(f\"The Predicted Price is {pred} $\")\n",
    "    \n",
    "if __name__=='__main__':\n",
    "    main()"
   ]
  }
 ],
 "metadata": {
  "kernelspec": {
   "display_name": "Python 3 (ipykernel)",
   "language": "python",
   "name": "python3"
  },
  "language_info": {
   "codemirror_mode": {
    "name": "ipython",
    "version": 3
   },
   "file_extension": ".py",
   "mimetype": "text/x-python",
   "name": "python",
   "nbconvert_exporter": "python",
   "pygments_lexer": "ipython3",
   "version": "3.11.4"
  }
 },
 "nbformat": 4,
 "nbformat_minor": 5
}
